{
  "nbformat": 4,
  "nbformat_minor": 0,
  "metadata": {
    "colab": {
      "name": "Scrape de comentarios de vídeo de Youtube con Python.ipynb",
      "provenance": [],
      "collapsed_sections": []
    },
    "kernelspec": {
      "name": "python3",
      "display_name": "Python 3"
    },
    "language_info": {
      "name": "python"
    },
    "accelerator": "GPU"
  },
  "cells": [
    {
      "cell_type": "markdown",
      "metadata": {
        "id": "H5CAbZja88EN"
      },
      "source": [
        "**En este proyecto encontraremos como  scrape/raspar comentarios  de  vídeo de YouTube.**"
      ]
    },
    {
      "cell_type": "code",
      "metadata": {
        "id": "NeTz0DvX8yjD"
      },
      "source": [
        "!apt install chromium-chromedriver\n",
        "!cp /usr/lib/chromium-browser/chromedriver /usr/bin\n",
        "!pip install selenium"
      ],
      "execution_count": null,
      "outputs": []
    },
    {
      "cell_type": "code",
      "metadata": {
        "id": "Nn_QlwsqC11y"
      },
      "source": [
        "import time\n",
        "from selenium import webdriver\n",
        "from selenium.webdriver import Chrome \n",
        "from selenium.webdriver.common.by import By \n",
        "from selenium.webdriver.common.keys import Keys \n",
        "from selenium.webdriver.support.ui import WebDriverWait\n",
        "from selenium.webdriver.support import expected_conditions as EC"
      ],
      "execution_count": null,
      "outputs": []
    },
    {
      "cell_type": "markdown",
      "metadata": {
        "id": "jElVZ9On9tyN"
      },
      "source": [
        "Primero, se debe instalar ChromeDriver . También debería tener instalado Google Chrome. Luego de hacer lo anterior se instalan las librerias necesarias.\n",
        "\n",
        "\n",
        "**Se instala selenium porque Youtube está renderizado en JavaScript, con lo que BeautifulSoup no puede lidiar**\n",
        "\n",
        "\n",
        "\n",
        "\n",
        "\n",
        "\n",
        "Todos los demás módulos son necesarios porque los comentarios de Youtube se cargan dinámicamente, lo que significa que solo son visibles cuando se desplaza hacia abajo en la página. Entonces queremos un bucle que:\n",
        "\n",
        "Desplazarse hacia abajo\n",
        "\n",
        "\n",
        "Espere a que aparezcan los comentarios\n",
        "\n",
        "\n",
        "Raspa los comentarios\n",
        "\n",
        "\n",
        "Repita para el rango que queramos.\n",
        "\n",
        "\n",
        "Aquí está el bucle que hace precisamente eso.\n"
      ]
    },
    {
      "cell_type": "code",
      "metadata": {
        "colab": {
          "base_uri": "https://localhost:8080/"
        },
        "id": "JNmtPyAF9OyN",
        "outputId": "9aa2a690-58cd-4907-f286-c29e536ab50b"
      },
      "source": [
        "\n",
        "def ScrapComments(path):\n",
        "  authors = []                                                                                                                                                                                                                                                                                                                                                                                                                                                                                                                                                                                                                                                                                                                                                                                           \n",
        "  try:\n",
        "    # Configuring the ChromeDriver\n",
        "    options = webdriver.ChromeOptions()\n",
        "    options.add_argument('-headless')\n",
        "    options.add_argument('-no-sandbox')\n",
        "    options.add_argument('-disable-dev-shm-usage')\n",
        "    #wd = webdriver.Chrome('chromedriver',chrome_options=options)\n",
        "    driver =webdriver.Chrome('chromedriver',chrome_options=options)\n",
        "    wait = WebDriverWait(driver,15)\n",
        "    driver.get(path)\n",
        "    \n",
        "    # Expanding Comments 6 times to load atleast 100 comments\n",
        "    for item in range(6):\n",
        "      wait.until(EC.visibility_of_element_located((By.TAG_NAME,\"body\"))).send_keys(Keys.END)\n",
        "      time.sleep(20)\n",
        "    \n",
        "    # Scrapping all the comments and their author\n",
        "    for author in wait.until(EC.presence_of_all_elements_located((By.CLASS_NAME,\"style-scope ytd-comment-renderer\"))):\n",
        "      authors.append(author.text)\n",
        "    \n",
        "  except Exception as e:\n",
        "    print(e)\n",
        "  return authors\n",
        "\n",
        "path = \"https://www.youtube.com/watch?v=kuhhT_cBtFU&t=2s\"\n",
        "data = ScrapComments(path)\n",
        "data"
      ],
      "execution_count": null,
      "outputs": [
        {
          "output_type": "stream",
          "text": [
            "/usr/local/lib/python3.7/dist-packages/ipykernel_launcher.py:11: DeprecationWarning: use options instead of chrome_options\n",
            "  # This is added back by InteractiveShellApp.init_path()\n"
          ],
          "name": "stderr"
        },
        {
          "output_type": "execute_result",
          "data": {
            "text/plain": [
              "['samsonslmpson1986\\n9 months ago\\n\"Between white officers and a black man\". I\\'m so sick of the media trying to cause a civil war.\\n266\\nREPLY',\n",
              " 'E Z\\n9 months ago\\nThe fact that she said.. \"white officers and a black man\" is the problem\\n414\\nREPLY',\n",
              " 'Borna Asi\\n9 months ago\\nGood parenting: “teaches about good and bad people“\\n\\nBad parenting: “lies about white people and minorities”\\n25\\nREPLY',\n",
              " \"jjburkk\\n9 months ago\\nThere's a time and a place to fight the police.  It's called a court room.\\n40\\nREPLY\",\n",
              " \"Jack Jolly\\n9 months ago\\nI'm not from the US but I sure as hell know not to point a weapon at a cop, It's extremely senseless.\\n158\\nREPLY\",\n",
              " \"tory white\\n9 months ago\\nI always wonder why CNN never shows the whole CLIP, JUST spiced sections together. Really hard to believe them on what they do show, when they have so much they don't\\n50\\nREPLY\",\n",
              " 'olaa senior\\n9 months ago\\nWe dont need his \"help to understand what we\\'re seeing\", what we need is a full uncut video to judge for ourself what we\\'re seeing.\\n293\\nREPLY',\n",
              " 'Uncle Sam\\n9 months ago\\nHi there, I’m Rashard Brooks. I was sentenced to 7 years in prison for beating my KIDS. I was paroled due to the covid-19.\\nI drove drunk to Wendy’s and passed out in the drive through line, when a cop tried to arrest me for my 2nd dui I stole his taser and fired it at him because I knew I would be sent back to prison...I’m a martyr now...\\n70\\nREPLY',\n",
              " 'Justin Leet\\n9 months ago (edited)\\nThe fact this is what you choose to cover shows your true intentions.\\n86\\nREPLY',\n",
              " 'agonzalez8924\\n9 months ago\\nYou conveniently left out that in the struggle he also ripped away a taser from one of the officers, and was actively trying to use it.\\n67\\nREPLY',\n",
              " 'Milani Inalim\\n9 months ago\\nHe was drunk and acted irrationally when panicked but he still didn’t deserve to die, so many people have done worse and are still alive\\n106\\nREPLY',\n",
              " \"Bert Reynolds\\n9 months ago\\nCan you imagine if CNN was the only place you were getting news? You'd know absolutely nothing about nothing\\n35\\nREPLY\",\n",
              " 'C R\\n9 months ago\\nShow the part where he stole the cops taser and shot him with it\\n143\\nREPLY',\n",
              " 'Gray Fox\\n9 months ago\\nHow can you try fight cops, steal their weapon and be susprised that they shot you lol\\n27\\nREPLY',\n",
              " 'Dalton Mosley\\n9 months ago\\nI’m not saying it’s right but resisting arrest is never a good idea\\n113\\nREPLY',\n",
              " 'RJ\\n9 months ago (edited)\\nYou guys need to post whole videos. For clarity I was talking about the rest of the commentators opinion.\\n273\\nREPLY',\n",
              " 'ExclusiveBam\\n9 months ago\\nHe took one of the officers tasers and ran. Just not caught on this clip that they showed.\\n63\\nREPLY',\n",
              " 'k v13\\n9 months ago\\nNo jury ever could find this cop guilty! He should sue the city for firing him simply because he is white!\\n88\\nREPLY',\n",
              " 'Dru H.\\n9 months ago\\nSad story of a brother lose his life because the police mad Rayshard making them work for their pay that day. He made them seem weak in front of the line of people and they shot him for showing out🤷🏿\\u200d♂️🧐🤐😬\\n2\\nREPLY',\n",
              " \"Username\\n9 months ago\\nLesson here is don't resist the Police, and don't fire a taser gun at them!\\n13\\nREPLY\",\n",
              " 'Lewis Morris\\n9 months ago\\nThey sure cut that clip off quick!\\n134\\nREPLY',\n",
              " 'Chewy\\n9 months ago\\nOH YES WE HAVE EDITED TO OUR LIKING TO ONLY SHOW THE NARRATIVE THAT WILL INCITE RACISM\\n177\\nREPLY',\n",
              " \"zurdo\\n9 months ago (edited)\\nthe suspect resisted, fought with the cops, supposedly took a taser from one of the cops, tried to escape, then turned around and fired the taser at the cop. This is not a Floyd case. The cop had no choice. It's all clear in the video.\\n20\\nREPLY\",\n",
              " 'MM NEZ\\n9 months ago\\nMNOGO ME JE POGODIO OVAJ KLIP. NEMOGU DA VERUJEM DA POLICIJA MOZE BITI OVOLIKO  BRUTALNA. KOLOIKO SAM RAZUMELA COVEK JE SPAVAO U KOLIMA A STA SE POSLE DESILO NISAM RAZUMELA.PREVODITE I NA SRPSKI DA ZNAMO O CEMU SE RADI.\\n1\\nREPLY',\n",
              " 'Jillian Aguilar\\n9 months ago\\n\"we are social justice warriors! We want a positive change! We are here to help bring that change!...now let\\'s burn the Wendy\\'s down!!!\"\\n18\\nREPLY',\n",
              " 'Omg Aunty Suzanne\\n9 months ago\\nHere’s how this goes in Australia.\\nHave you been drinking \\nYes \\nBlow in this \\nRead more\\n397\\nREPLY',\n",
              " 'Matt Foley\\n9 months ago\\nIf you resist arrest, you take a chance.  If you grab an officer’s weapon, you take a chance.  If you run away from officers who apprehended you, you take a chance.  If you aim a weapon at an officer, you take a chance.  When you do all 4, you’re flipping a coin as to whether you’ll come out alive.\\n3\\nREPLY',\n",
              " \"jrbland18\\n9 months ago\\nthe POLICE would have finished arresting him and trying to put handcuffs on him, this man would have been alive. Instead this GIY started fighting POLICE and pulled the taser from cop. Started running and turned around and firedtazer toward cops. Then 1police officer shot him and then they did CPR  on him.  Sorry this guys life ended but, if he didn't do what he did, he would still be alive.\\n16\\nREPLY\",\n",
              " \"Eastwood Rufus\\n9 months ago\\nThe Taser didn't stop em . So let's shoot em KNOWING he doesn't have a weapon because they patted him down BEFORE Gunning him down 😔 smh\\n2\\nREPLY\",\n",
              " 'Thomas Gurgal\\n9 months ago\\nI have been in a similar situation after an office party. The police drove me home, and that is what should have happened here, or they should have let him call family. Nothing he did was a capital offence. Police 👮 don’t get to be judge, jury, AND executioner.🥵😢🥵💀🇺🇸\\n1\\nREPLY',\n",
              " 'Revolution Dance\\n9 months ago\\nImagine if the cop just said we will have to give you a ride home you can’t operate your vehicle for the night. But not in this day and age where all of this at the end was about money not justice but money. America is not a country it’s a business.\\n16\\nREPLY',\n",
              " \"fah q\\n9 months ago\\nCan't wait to see this guy 8th grade graduation picture.  Maybe his kindergarten teacher will come out and talk about he was such a good boy and show his finger paintings.\\nREPLY\",\n",
              " 'Eric Tambe\\n9 months ago\\nThey killing us. My dear brothers and sisters lets just try not to resist. God is in control.\\nREPLY',\n",
              " \"Michael Lopez\\n9 months ago\\nErik Killmonger : The world took everything away from me! Everything I ever loved! But I'ma make sure we're even. I've waited my whole life for this. The world's going to start over. I'MA BURN IT ALL!\\nREPLY\",\n",
              " 'JayOden\\n9 months ago\\nThank you for teaching me what I saw.\\nREPLY',\n",
              " 'GO-GO SO-SO\\n9 months ago\\nI wish they would do a story on what happened to Breonna Taylor.  She was an EMT shot in her own home by police during a no-knock raid.\\n26\\nREPLY',\n",
              " 'david paglia\\n9 months ago\\nAlmost the same thing happened to me but cop took my keys and told me he would be back in an hour! I went into store had a cup of coffee cop came back asked me if i was alright and gave me my keys. That was 1981. Back in those days it wasnt all about filling town coffers!\\nREPLY',\n",
              " 'Kayne\\n9 months ago\\nIf they didnt want to deal with it that day, they could have said, \" call somebody to get you\" a lot of people get junk and fight all the time. They have no judgement. He had no weapon but taser.\\nREPLY',\n",
              " 'nickissick\\n9 months ago\\nSo the suspect is driving while under the influence of more than two times the legal limit, resists arrest, steals and points the officers taser at the him and people think this is okay?\\n74\\nREPLY',\n",
              " 'Meda Anhil\\n9 months ago\\nI had a real conversation with some nice white folks I worked with about situations like this. This guy actually told me a big tip. They hardly ever got arrested for drinking and driving because the local cops knew them and their families and would just let them go. Why?\\nREPLY',\n",
              " 'Dittzx\\n9 months ago\\nWhen you train police officers to be occupation forces, this will lead to the inevitably results.\\n69\\nREPLY',\n",
              " 'kaichiu tsang\\n6 months ago\\n2:00\\nREPLY',\n",
              " \"Networth Media\\n9 months ago\\nHere in Kenya, we are doing better. We thought america was the super power, its shameful. In Kenya a policeman would bundle a drunk driver in the police car and drive him to the station, then take his car to the nearest police station. no bullets fired to an 'intoxicated' man.\\n1\\nREPLY\",\n",
              " 'Just Labor\\n9 months ago\\nYou know it odd but the more this happens the more I start to see and hear people give any excuse to take another persons life.\\n1\\nREPLY',\n",
              " 'Loudbeep\\n9 months ago\\nIf you watch the full video from the Wendy’s camera, the officers chased him down on foot and only shot at him after Brooks discharged the taser at them and headed for a car in the drive through.\\nREPLY',\n",
              " \"Dittzx\\n9 months ago\\nCops: He's drunk and running away with a lethal taser, quick we're in imminent danger of him..Quick shot in the back!!!\\n78\\nREPLY\",\n",
              " 'Numbuh161588\\n9 months ago\\nSo the guy fought the police when they tried to put handcuffs on him after being passed out drunk in a drivethru, got tazed and still ran off. Then the other camera angle from Wendy’s shows him take something from a cop and point it at them while trying to escape... Seems like a pretty bad guy to me, I’d expect to be shot if I did the same things he did\\nREPLY',\n",
              " 'Jack smith\\n9 months ago\\nI watched the entire video multiple times and was shocked how professional that the cops were. They bent over backwards being professional to a guy obviously impaired and the number that he blew proved that. In other words, the guy was bombed and then instead of him complying he acted aggressively grabbing the taser gun and now the cops feared if they were hit and down he could have grabbed the gun and killed them.\\nRead more\\nREPLY',\n",
              " 'Kevin Langford\\n9 months ago\\nFunny how they cut off 40 minutes of these officers going out of their way to be nice to this guy. It also showed just how drunk this guy was.\\n11\\nREPLY',\n",
              " \"Growth / Potential\\n9 months ago\\nI don't know how many have seen this story on CNN. But the cars moved after rayshard was shot once. The same officer proceeded to walk  his way to Rayshard Brooks, still living body, and shot him in the back again.\\nREPLY\",\n",
              " \"Cynthia Langley\\n9 months ago\\nI don't even know what to say. If this is standard operating procedure then we definitely need to make major changes asap. My condolences to the family.\\n19\\nREPLY\",\n",
              " \"Socialbuttafli\\n9 months ago\\nIn this day and age it is NOT beneficial to your health to run from the cops AND fire a taser at them. 🤦🏾🤷🏾 The cops should've just caught up with him later on when he came home to make the arrest. His life saved and money in their pockets. 🤷🏾\\nREPLY\",\n",
              " 'JROBB 34\\n9 months ago\\nDrunk & passed out in drive thru, sobriety checked (failed), tried to arrest, resisted and fought officers (and won), escaped and fled with officers taser, then shot at officer with said taser, then stopped by police. \\nPoor choice led to an even worse outcome.\\nREPLY',\n",
              " \"Username\\n9 months ago\\nWhy resist arrest? If you are innocent, sort it out at the jail! People think, oh I'm going to get physical, and they will let me go?! Stupid!!\\n1\\nREPLY\",\n",
              " 'Asa Spayde\\n9 months ago\\nHave YOU seen the transcript.!?!?  It was NOT over 20 bucks  !!! He was outta his mind. The clerk was genuinely  concerned  for him\\nREPLY',\n",
              " 'mary maude\\n9 months ago\\nGermany:\\n--> Suspicion of driver being drunk\\n--> Police makes a test\\n--> Driver fails it\\nRead more\\n528\\nREPLY',\n",
              " 'Swagdad64\\n9 months ago\\nOrig unedited footage showed a lot more. Multiple falling asleep cycles, him driving, hitting the curb & driving backwards, different versions of why he was there, amongst other things. After the scuffle, he ran, turned, & fired at the officer BEFORE the officer returned fire. Justified? Idk.\\nREPLY',\n",
              " 'gina gay\\n9 months ago\\nPRAY for the world right now,it needs it!!!\\n29\\nREPLY',\n",
              " 'AJ Cutler\\n9 months ago\\n\"APD SHOOTING EXPLAINED\\nBefore reading below, remember that officers are afforded the same constitutional rights as citizens, so whether they’re charged for political reasons or not, the facts of the case remain the same until their day in court:\\nRead more\\n3\\nREPLY',\n",
              " \"EdugeBDroN\\n9 months ago\\nI don't care what they show us, the man was asleep in his car. \\nThey have no business talking to him beyond checking if he's dead or alive. \\nOnce he woke up, they should have left without him having to open his door.\\nREPLY\",\n",
              " 'Relentless Ruthie\\n9 months ago\\nI’m not watching the news anymore. I’ve been so focused on watching every news network at night time that I even go to bed way past 9pm and this is not ok. \\nI’m done. I’ll come back whenever we have positive news I’m over it now. I’m over it. \\nRead more\\n232\\nREPLY',\n",
              " 'brainwashing detergent\\n9 months ago\\nEverybody talking about calling an uber. Dude should have called one before he left the house. How about that?\\n48\\nREPLY',\n",
              " \"EnSolo\\n9 months ago\\nSuggestion : People should not be murdered for falling victim to a physiological response (fight or flight) - \\nHow about we add an additional fine to adults who run from the police.. maybe $1k. Which will be paid by the suspect.. if there is proper picture ID.  Let them run, offer a rewards for info.. once that person is arrested. Be fine pay the rewards, & collect fine from suspect... By either garnishing wages, levying their accounts, taxes.. etc... But it's okay if that person isn't an immediate deadly threat to people around him/her.\\nRead more\\nREPLY\",\n",
              " 'Matthew Richardson\\n8 months ago\\nI\\'m googling \"8 year old girl shot in Atlanta CNN\".  This is the video coverage.\\n1\\nREPLY',\n",
              " 'Bhronda Pinder\\n9 months ago\\nThis is causing anxiety that it’s literally making me sick.\\n2\\nREPLY',\n",
              " 'WWH InShort\\n9 months ago\\nTeach everyone to respect human. To respect life. To live and enjoy life. Stop these kind of behavior.\\n34\\nREPLY',\n",
              " 'James Lee\\n9 months ago\\nHe might of been drunk and when they were gonna cuff him he drunkenly thought \"heres my chance to dip\", as any self respecting drunk person would at least think of.\\nREPLY',\n",
              " \"notta3d\\n9 months ago\\nI was totally wrapped up into the George Floyd incident and what happened to that poor man, but it got to be too much. I watch the big 3 on CNN just about every night, but lately I can't watch them because of have one-sided they are. Don Lemon is through the roof with it. As I said I haven't been watching the news, but I just watched the full video of this. WTF?? This cop did everything by the book and was completely tolerant, too tolerant, of this man and his actions. Again, we go back to another guy resisting, but he took it to another level and grabbed a weapon from the cop. WTF? I can't even finish this I'm so disgusted.\\nRead more\\nREPLY\",\n",
              " 'Robert McAleer\\n9 months ago\\nSo, a drunk gets into a fight with 2 officers, slaming one to the ground steals a weapon and turns to fire it back at cops as he runs away and nobody can inderstand why he got shot??\\n1\\nREPLY',\n",
              " 'Ajinochi\\n9 months ago\\n1:25 That one guy that recorded the fight.\\n1\\nREPLY',\n",
              " '강태욱\\n9 months ago\\nWHY DID CNN EDIT THE VIDEO TAKE OUT THE PART WHERE HE TOOK THE TASER GUN?\\n176\\nREPLY',\n",
              " 'Ari Raquel\\n9 months ago\\nThey edited out alot of footage..the police were not mean to him he chose to resist arrest after approximately 40 mins of talking calmly to him\\nREPLY',\n",
              " 'Daeney DiRusso\\n9 months ago\\nAlso way to omit the best angles. I believe some news organization in Atlanta released the full body-cam, and dash cam footage of the incident which shows everything in extreme clarity. They omit the clear footage of the shooting to leave it to your imagination as they tell you how poorly the officers handled the situation.\\nREPLY',\n",
              " 'BeKind504\\n9 months ago\\nI wasn’t there but I think the officer should have offered him a ride home. Perhaps ask the driver to call for a ride and tow his car.  Just trying to arrest wasn’t the answer.  I understand he was drunk but he was not not diving at the time of incident (sleeping in the car).  God help us as a Nation!\\n1\\nREPLY',\n",
              " 'Zohan Salizarah\\n9 months ago\\nthere are 2 warrants out on him for domestic violence wanna mention that cnn?\\n45\\nREPLY',\n",
              " \"A O\\n9 months ago\\nRegardless of him running away with the taser, he shouldn't have been shot to death. The police shouldn't be the judge, jury, and executioner over the decision to end an unarmed man's life.\\n71\\nREPLY\",\n",
              " \"thom wessels\\n9 months ago\\nJust terrible that lethal force was used. If he just wasn't drunk, blocked a business, failed a FST, resisted arrest, fought with them to get away, TOOK THE LEOs TASER, FIRED IT AT HIM while fleeing....none of this would have ever happened.\\n1\\nREPLY\",\n",
              " 'Michael Elijah\\n9 months ago\\nSomething I noticed is that the officers weapons search of Mr.Brooks only involved what seemed like a pat around the waste area and  then ended with the searching of what seems like Mr.Brooks  back pocket. The weapons search didn’t seem thorough enough to safely conclude that Mr.Brooks did not have any weapons.  A good weapons search would involve searching  from the waste down and or lifting up pant legs and searching the sides of the shoes.  And also searching from the waste up and or lifting up the persons shirt.  And searching all of the pockets as well.  Onto to the actual shooting of Mr.Brooks.  I’m not sure who’s taser was taken in the first scuffle. But assuming it wasn’t the taser of the officer which shot at Mr.Brooks ,that would mean he would still have the option to use his own taser. But something else to consider is how many shots was the taser capable of firing ? I’m talking about individual shots capable of being fired from the taser and not repetitive electric shocks sent from the taser to the already shot taser probes. So how many shots was the taser capable of firing,and was the officer aware of how many shots the taser was capable of firing ? If the taser was only capable of firing one shot,then the matter is a little different. Because if the taser was shot and missed the target ,and the officer still had his taser with him then he could have fired his own taser instead. Something else to consider is were the dangling taser probes still something to be deeply concerned about ? An other thing to consider is that given what seems like not a good enough weapons pat down,the officer could have still have had doubts with regards to whether or not Mr.Brooks had any weapons on him or not. Which would be a another reason for him to have to shoot Mr.Brooks. That little bit of doubt in the weapons search can make for lack of confidence/stability with regards to the officers handling of the whole matter.  A thorough weapons search helps rule out certain matters. It helps in moving forward with more confidence during the investigation. It can help in doing what’s best for the officer and the person being investigated. \\nRead more\\nREPLY',\n",
              " \"Mac cheese\\n9 months ago\\nRule #1 don't fight with the police or you will be killed. \\nEnd of story\\n1\\nREPLY\",\n",
              " 'Mongoose Laflair\\n9 months ago\\n😥😥😥😥😥😥😥😥😥😥😥😥\\nREPLY',\n",
              " 'marquise kennedy\\n9 months ago\\nShit sad.. he didnt have to shoot him.. now he dead and all he did was fall asleep in a parked car..\\n17\\nREPLY',\n",
              " 'gmanon\\n9 months ago\\nThe police in this case was clearly seeking for an excuse to kill this man.  How in the world could we call those individuals law enforcement?\\n\\nThese practices are obviously deathly wrong, and are nothing, but lynching.\\nREPLY',\n",
              " \"Nunya Business\\n9 months ago\\nIt's the fault of Wendy's. If they didn't have a location there, he wouldn't have been there and this never would have happened. Let's burn down Wendy's! 🤦\\u200d♂️\\n1\\nREPLY\",\n",
              " 'lucas pallan\\n9 months ago\\nThey woke him up told him to pull over to a parking spot and get some sleep but then he passed out again then the cops woke him up again and started questioning him. That was cut from the video.\\nREPLY',\n",
              " 'Sad Cat\\n9 months ago\\n“You have to be in fear of your life before you use deadly force”\\n\\n\\nAight fam need we say more?\\nREPLY',\n",
              " \"Machinedead\\n9 months ago (edited)\\nHe could have just gotten away with a night in jail and maybe losing his driver's license, but he just had to resist arrest and run away with a taser (and then shoot it at the police ?? Huh ? ) , ok, that was stupid dude ! Guy nust have been really drunk or really high on drugs....\\n11\\nREPLY\",\n",
              " 'ehsan samei\\n9 months ago\\nPolice officers are not screened and trained properly in the states.I live in Canada and it is too difficult to become a police officer here, therefore Canada ranks second best police forces global-wise after Japan.\\nREPLY',\n",
              " 'Bee Cee\\n9 months ago\\nSmh.  Why did he resist!? 🤦\\u200d♀️. Clearly this could have been prevented\\nREPLY',\n",
              " 'Frank Conrad\\n9 months ago\\n“It was discharged during the foot chase but you know he is unarmed.....” HE STOLE THE COPS TAZER AND DISCHARGED IT AT THE COP..... NIGHTY NIGHT! As far as I’m concerned, he forfeit his life right there.... justified shooting...\\nREPLY',\n",
              " 'Ray Tutaj Jr\\n9 months ago\\nIF HE IS RUNNING AWAY, YOU LET HIM RUN AND LEAVE!! YOU  GOT HIS CAR THERE, RUN HIS LISCENSE ETC. CATCH UP WITH HIM LATER.  If he wants his car tell him come down to the station and get it.  No sense killing a man.\\nREPLY',\n",
              " 'thelousyllama\\n9 months ago\\nThe US really needs an independent commission on deaths in custody... the rest of the civilized world has them.\\n66\\nREPLY',\n",
              " \"EarthPicture\\n9 months ago\\nOh my God 😔😞 ain't kill cuz I got booze ✊🏽\\nREPLY\",\n",
              " \"bryan duffy\\n9 months ago\\nThe report I saw said, the person had taken the officer's stun gun and while running g away that person turned and directed the officer's stolen taser toward the  pursuing office who responded by shooting  the fleeing suspect.the video shown along with that seemed to support the story.thats the part CNN left out and did not show.\\n2\\nREPLY\",\n",
              " \"Undead WalUwUgi\\n9 months ago\\nWhy show only the bodycam though? There is an entire part that's missing. The part where the man tries shooting an officer with a stolen taser.\\n1\\nREPLY\",\n",
              " 'Steve Reason\\n9 months ago\\nIf he was in Wendy’s drive thru, what was the point of checking his person? They could of simply told him that he’s  drunk and that he either needs to call for a ride home or stay the night in his car at the Wendy’s until he sobers up. Why were they trying to arrest him if he wasn’t even on the road driving?\\nREPLY',\n",
              " 'Man with a Handycapped\\n9 months ago\\na less deadly way let the drunk man run away impound the send by mail a large fine and court date.\\n37\\nREPLY',\n",
              " 'Hyper\\n9 months ago\\nY’all edited that video and took out the part the guy stole the cops taser...\\n25\\nREPLY',\n",
              " 'JoMama123451234\\n9 months ago\\nOfficially done with the MSM. Time to get my news from Wikipedia or just not watch the news anymore. The news media has degraded to the point of no longer being news. The MSM is now a political organization. Distorting facts and pushing an agenda. No more separation of opinion from facts. The MSM is ruining the country.\\nREPLY',\n",
              " \"Droskie83\\n9 months ago\\nUsually when one is drunk, they don't make good decisions. Perfect example.\\nTons of footage, failed sobriety test, and attacking an officer. \\nCant fix stupid.\\nREPLY\",\n",
              " 'Paul H.\\n9 months ago (edited)\\nThe whole point here is STOP RESISTING ARREST!!!\\n1\\nREPLY']"
            ]
          },
          "metadata": {
            "tags": []
          },
          "execution_count": 9
        }
      ]
    },
    {
      "cell_type": "markdown",
      "metadata": {
        "id": "K_YPp5vd_PNh"
      },
      "source": [
        "**Pues así es como funciona:**\n",
        "\n",
        "*  Acceda a la URL que desee con la función driver.get \n",
        "\n",
        "* Desplácese hacia abajo y espere hasta que todo sea visible con wait.until y EC.visibility_of_element_located .\n",
        "\n",
        "\n",
        "* Elimine los comentarios encontrando todos los elementos \n",
        ".#content-text \n",
        "\n",
        "* Agregue los comentarios a la lista de datos.\n",
        "\n",
        "\n"
      ]
    },
    {
      "cell_type": "code",
      "metadata": {
        "colab": {
          "base_uri": "https://localhost:8080/",
          "height": 204
        },
        "id": "A3i05Rkr9jaz",
        "outputId": "147606f6-0be1-47db-d264-a7c2722ce0b2"
      },
      "source": [
        "import pandas as pd   \n",
        "df = pd.DataFrame(data,columns=['comment'])\n"
      ],
      "execution_count": null,
      "outputs": [
        {
          "output_type": "execute_result",
          "data": {
            "text/html": [
              "<div>\n",
              "<style scoped>\n",
              "    .dataframe tbody tr th:only-of-type {\n",
              "        vertical-align: middle;\n",
              "    }\n",
              "\n",
              "    .dataframe tbody tr th {\n",
              "        vertical-align: top;\n",
              "    }\n",
              "\n",
              "    .dataframe thead th {\n",
              "        text-align: right;\n",
              "    }\n",
              "</style>\n",
              "<table border=\"1\" class=\"dataframe\">\n",
              "  <thead>\n",
              "    <tr style=\"text-align: right;\">\n",
              "      <th></th>\n",
              "      <th>comment</th>\n",
              "    </tr>\n",
              "  </thead>\n",
              "  <tbody>\n",
              "    <tr>\n",
              "      <th>0</th>\n",
              "      <td>samsonslmpson1986\\n9 months ago\\n\"Between whit...</td>\n",
              "    </tr>\n",
              "    <tr>\n",
              "      <th>1</th>\n",
              "      <td>E Z\\n9 months ago\\nThe fact that she said.. \"w...</td>\n",
              "    </tr>\n",
              "    <tr>\n",
              "      <th>2</th>\n",
              "      <td>Borna Asi\\n9 months ago\\nGood parenting: “teac...</td>\n",
              "    </tr>\n",
              "    <tr>\n",
              "      <th>3</th>\n",
              "      <td>jjburkk\\n9 months ago\\nThere's a time and a pl...</td>\n",
              "    </tr>\n",
              "    <tr>\n",
              "      <th>4</th>\n",
              "      <td>Jack Jolly\\n9 months ago\\nI'm not from the US ...</td>\n",
              "    </tr>\n",
              "  </tbody>\n",
              "</table>\n",
              "</div>"
            ],
            "text/plain": [
              "                                             comment\n",
              "0  samsonslmpson1986\\n9 months ago\\n\"Between whit...\n",
              "1  E Z\\n9 months ago\\nThe fact that she said.. \"w...\n",
              "2  Borna Asi\\n9 months ago\\nGood parenting: “teac...\n",
              "3  jjburkk\\n9 months ago\\nThere's a time and a pl...\n",
              "4  Jack Jolly\\n9 months ago\\nI'm not from the US ..."
            ]
          },
          "metadata": {
            "tags": []
          },
          "execution_count": 10
        }
      ]
    },
    {
      "cell_type": "markdown",
      "metadata": {
        "id": "lGcOECMXDsVY"
      },
      "source": [
        "Repito el bucle 200 veces, lo que raspa unos 1.400 comentarios. Y se muestran los datos."
      ]
    }
  ]
}